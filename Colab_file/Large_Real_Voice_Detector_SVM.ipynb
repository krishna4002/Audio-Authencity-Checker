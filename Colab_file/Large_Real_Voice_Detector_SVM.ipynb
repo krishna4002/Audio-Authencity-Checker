{
 "cells": [
  {
   "cell_type": "code",
   "execution_count": 1,
   "id": "30a8146f-bf33-491a-aad2-4da1e552ae74",
   "metadata": {},
   "outputs": [],
   "source": [
    "import numpy as np\n",
    "import pandas as pd\n",
    "from sklearn.preprocessing import StandardScaler\n",
    "from sklearn.model_selection import train_test_split\n",
    "from sklearn import svm\n",
    "from sklearn.metrics import accuracy_score"
   ]
  },
  {
   "cell_type": "code",
   "execution_count": 3,
   "id": "6da4f936-cfe2-4dfc-9242-53cd312c1ded",
   "metadata": {},
   "outputs": [],
   "source": [
    "audio_data = pd.read_csv('Final Dataset.csv')"
   ]
  },
  {
   "cell_type": "code",
   "execution_count": 5,
   "id": "a4e814c6-4bf8-4f34-9bb0-5aa2808cd4f0",
   "metadata": {},
   "outputs": [
    {
     "data": {
      "text/html": [
       "<div>\n",
       "<style scoped>\n",
       "    .dataframe tbody tr th:only-of-type {\n",
       "        vertical-align: middle;\n",
       "    }\n",
       "\n",
       "    .dataframe tbody tr th {\n",
       "        vertical-align: top;\n",
       "    }\n",
       "\n",
       "    .dataframe thead th {\n",
       "        text-align: right;\n",
       "    }\n",
       "</style>\n",
       "<table border=\"1\" class=\"dataframe\">\n",
       "  <thead>\n",
       "    <tr style=\"text-align: right;\">\n",
       "      <th></th>\n",
       "      <th>Frequency</th>\n",
       "      <th>RMS Energy</th>\n",
       "      <th>Pitch Variability</th>\n",
       "      <th>Speech Rate</th>\n",
       "      <th>ZCR</th>\n",
       "      <th>Temporal Centroid</th>\n",
       "      <th>Spectral Centroid</th>\n",
       "      <th>Spectral Bandwidth</th>\n",
       "      <th>Spectral Contrast</th>\n",
       "      <th>Spectral Flatness</th>\n",
       "      <th>MFCCs</th>\n",
       "      <th>Chroma Vector</th>\n",
       "      <th>HNR</th>\n",
       "      <th>Tonal Centroid</th>\n",
       "      <th>Outcome</th>\n",
       "    </tr>\n",
       "  </thead>\n",
       "  <tbody>\n",
       "    <tr>\n",
       "      <th>0</th>\n",
       "      <td>1271.11</td>\n",
       "      <td>0.2207</td>\n",
       "      <td>579.43</td>\n",
       "      <td>1557.5</td>\n",
       "      <td>0.069</td>\n",
       "      <td>0.793</td>\n",
       "      <td>1385.45</td>\n",
       "      <td>1408.82</td>\n",
       "      <td>25.99</td>\n",
       "      <td>0.0001</td>\n",
       "      <td>-7.05</td>\n",
       "      <td>0.3070</td>\n",
       "      <td>-20.380</td>\n",
       "      <td>-0.0049</td>\n",
       "      <td>0</td>\n",
       "    </tr>\n",
       "    <tr>\n",
       "      <th>1</th>\n",
       "      <td>936.12</td>\n",
       "      <td>0.2136</td>\n",
       "      <td>377.06</td>\n",
       "      <td>1508.0</td>\n",
       "      <td>0.067</td>\n",
       "      <td>0.967</td>\n",
       "      <td>1031.98</td>\n",
       "      <td>1070.02</td>\n",
       "      <td>27.73</td>\n",
       "      <td>0.0000</td>\n",
       "      <td>-10.15</td>\n",
       "      <td>0.3024</td>\n",
       "      <td>-13.016</td>\n",
       "      <td>-0.0138</td>\n",
       "      <td>0</td>\n",
       "    </tr>\n",
       "    <tr>\n",
       "      <th>2</th>\n",
       "      <td>1118.46</td>\n",
       "      <td>0.1806</td>\n",
       "      <td>570.16</td>\n",
       "      <td>1671.0</td>\n",
       "      <td>0.075</td>\n",
       "      <td>0.856</td>\n",
       "      <td>1165.08</td>\n",
       "      <td>993.94</td>\n",
       "      <td>27.92</td>\n",
       "      <td>0.0000</td>\n",
       "      <td>-11.13</td>\n",
       "      <td>0.3249</td>\n",
       "      <td>-18.418</td>\n",
       "      <td>0.0085</td>\n",
       "      <td>0</td>\n",
       "    </tr>\n",
       "    <tr>\n",
       "      <th>3</th>\n",
       "      <td>2268.64</td>\n",
       "      <td>0.2373</td>\n",
       "      <td>519.82</td>\n",
       "      <td>2944.0</td>\n",
       "      <td>0.132</td>\n",
       "      <td>0.870</td>\n",
       "      <td>2139.47</td>\n",
       "      <td>1675.09</td>\n",
       "      <td>27.68</td>\n",
       "      <td>0.0002</td>\n",
       "      <td>-5.45</td>\n",
       "      <td>0.3244</td>\n",
       "      <td>-22.633</td>\n",
       "      <td>0.0102</td>\n",
       "      <td>0</td>\n",
       "    </tr>\n",
       "    <tr>\n",
       "      <th>4</th>\n",
       "      <td>1281.64</td>\n",
       "      <td>0.1595</td>\n",
       "      <td>535.55</td>\n",
       "      <td>2203.5</td>\n",
       "      <td>0.099</td>\n",
       "      <td>0.971</td>\n",
       "      <td>1387.89</td>\n",
       "      <td>1444.35</td>\n",
       "      <td>24.63</td>\n",
       "      <td>0.0001</td>\n",
       "      <td>-0.96</td>\n",
       "      <td>0.3536</td>\n",
       "      <td>-14.285</td>\n",
       "      <td>-0.0020</td>\n",
       "      <td>0</td>\n",
       "    </tr>\n",
       "  </tbody>\n",
       "</table>\n",
       "</div>"
      ],
      "text/plain": [
       "   Frequency  RMS Energy  Pitch Variability  Speech Rate    ZCR  \\\n",
       "0    1271.11      0.2207             579.43       1557.5  0.069   \n",
       "1     936.12      0.2136             377.06       1508.0  0.067   \n",
       "2    1118.46      0.1806             570.16       1671.0  0.075   \n",
       "3    2268.64      0.2373             519.82       2944.0  0.132   \n",
       "4    1281.64      0.1595             535.55       2203.5  0.099   \n",
       "\n",
       "   Temporal Centroid  Spectral Centroid  Spectral Bandwidth  \\\n",
       "0              0.793            1385.45             1408.82   \n",
       "1              0.967            1031.98             1070.02   \n",
       "2              0.856            1165.08              993.94   \n",
       "3              0.870            2139.47             1675.09   \n",
       "4              0.971            1387.89             1444.35   \n",
       "\n",
       "   Spectral Contrast  Spectral Flatness  MFCCs  Chroma Vector     HNR  \\\n",
       "0              25.99             0.0001  -7.05         0.3070 -20.380   \n",
       "1              27.73             0.0000 -10.15         0.3024 -13.016   \n",
       "2              27.92             0.0000 -11.13         0.3249 -18.418   \n",
       "3              27.68             0.0002  -5.45         0.3244 -22.633   \n",
       "4              24.63             0.0001  -0.96         0.3536 -14.285   \n",
       "\n",
       "   Tonal Centroid  Outcome  \n",
       "0         -0.0049        0  \n",
       "1         -0.0138        0  \n",
       "2          0.0085        0  \n",
       "3          0.0102        0  \n",
       "4         -0.0020        0  "
      ]
     },
     "execution_count": 5,
     "metadata": {},
     "output_type": "execute_result"
    }
   ],
   "source": [
    "audio_data.head()"
   ]
  },
  {
   "cell_type": "code",
   "execution_count": 7,
   "id": "b69a56ec-b7a0-4a1d-ae68-1f8e92509baa",
   "metadata": {},
   "outputs": [
    {
     "data": {
      "text/plain": [
       "(13956, 15)"
      ]
     },
     "execution_count": 7,
     "metadata": {},
     "output_type": "execute_result"
    }
   ],
   "source": [
    "audio_data.shape"
   ]
  },
  {
   "cell_type": "code",
   "execution_count": 9,
   "id": "7c4a9e7f-9abe-43cb-bb0b-1b723275d8e5",
   "metadata": {},
   "outputs": [
    {
     "name": "stdout",
     "output_type": "stream",
     "text": [
      "Frequency             0\n",
      "RMS Energy            0\n",
      "Pitch Variability     0\n",
      "Speech Rate           0\n",
      "ZCR                   0\n",
      "Temporal Centroid     0\n",
      "Spectral Centroid     0\n",
      "Spectral Bandwidth    0\n",
      "Spectral Contrast     0\n",
      "Spectral Flatness     0\n",
      "MFCCs                 0\n",
      "Chroma Vector         0\n",
      "HNR                   0\n",
      "Tonal Centroid        0\n",
      "Outcome               0\n",
      "dtype: int64\n"
     ]
    }
   ],
   "source": [
    "print(audio_data.isnull().sum())"
   ]
  },
  {
   "cell_type": "code",
   "execution_count": 11,
   "id": "b2a3e580-3390-46e8-a38e-f167554ca680",
   "metadata": {},
   "outputs": [
    {
     "data": {
      "text/plain": [
       "Outcome\n",
       "0    6978\n",
       "1    6978\n",
       "Name: count, dtype: int64"
      ]
     },
     "execution_count": 11,
     "metadata": {},
     "output_type": "execute_result"
    }
   ],
   "source": [
    "audio_data['Outcome'].value_counts()"
   ]
  },
  {
   "cell_type": "code",
   "execution_count": 13,
   "id": "25a075be-1acd-4cd5-af6b-8c1132e9ac0a",
   "metadata": {},
   "outputs": [],
   "source": [
    "x = audio_data.drop('Outcome', axis=1)\n",
    "y = audio_data['Outcome']"
   ]
  },
  {
   "cell_type": "code",
   "execution_count": 15,
   "id": "0ef8fc80-0466-46ef-ad92-484a7b7d1ee2",
   "metadata": {},
   "outputs": [],
   "source": [
    "scaler = StandardScaler()"
   ]
  },
  {
   "cell_type": "code",
   "execution_count": 17,
   "id": "410ad0de-2586-41d3-8361-dfcbd5a8444c",
   "metadata": {},
   "outputs": [],
   "source": [
    "x_scaled = scaler.fit_transform(x)"
   ]
  },
  {
   "cell_type": "code",
   "execution_count": 19,
   "id": "f681562c-cfcd-4318-b168-fb22046e4c6c",
   "metadata": {},
   "outputs": [],
   "source": [
    "x_train, x_test, y_train, y_test = train_test_split(x_scaled, y, test_size=0.2, stratify=y, random_state=2)"
   ]
  },
  {
   "cell_type": "code",
   "execution_count": 21,
   "id": "853e4f95-b02b-47d2-a0ff-90da5ba1e22e",
   "metadata": {},
   "outputs": [
    {
     "name": "stdout",
     "output_type": "stream",
     "text": [
      "(13956, 14) (11164, 14) (2792, 14)\n"
     ]
    }
   ],
   "source": [
    "print(x.shape, x_train.shape, x_test.shape)"
   ]
  },
  {
   "cell_type": "code",
   "execution_count": 23,
   "id": "9854584e-a0d0-496f-8fd9-084570ebf628",
   "metadata": {},
   "outputs": [],
   "source": [
    "classifier = svm.SVC(kernel='rbf')"
   ]
  },
  {
   "cell_type": "code",
   "execution_count": 25,
   "id": "0c77eb9b-c026-493a-b283-6545871e7b61",
   "metadata": {},
   "outputs": [
    {
     "data": {
      "text/html": [
       "<style>#sk-container-id-1 {color: black;background-color: white;}#sk-container-id-1 pre{padding: 0;}#sk-container-id-1 div.sk-toggleable {background-color: white;}#sk-container-id-1 label.sk-toggleable__label {cursor: pointer;display: block;width: 100%;margin-bottom: 0;padding: 0.3em;box-sizing: border-box;text-align: center;}#sk-container-id-1 label.sk-toggleable__label-arrow:before {content: \"▸\";float: left;margin-right: 0.25em;color: #696969;}#sk-container-id-1 label.sk-toggleable__label-arrow:hover:before {color: black;}#sk-container-id-1 div.sk-estimator:hover label.sk-toggleable__label-arrow:before {color: black;}#sk-container-id-1 div.sk-toggleable__content {max-height: 0;max-width: 0;overflow: hidden;text-align: left;background-color: #f0f8ff;}#sk-container-id-1 div.sk-toggleable__content pre {margin: 0.2em;color: black;border-radius: 0.25em;background-color: #f0f8ff;}#sk-container-id-1 input.sk-toggleable__control:checked~div.sk-toggleable__content {max-height: 200px;max-width: 100%;overflow: auto;}#sk-container-id-1 input.sk-toggleable__control:checked~label.sk-toggleable__label-arrow:before {content: \"▾\";}#sk-container-id-1 div.sk-estimator input.sk-toggleable__control:checked~label.sk-toggleable__label {background-color: #d4ebff;}#sk-container-id-1 div.sk-label input.sk-toggleable__control:checked~label.sk-toggleable__label {background-color: #d4ebff;}#sk-container-id-1 input.sk-hidden--visually {border: 0;clip: rect(1px 1px 1px 1px);clip: rect(1px, 1px, 1px, 1px);height: 1px;margin: -1px;overflow: hidden;padding: 0;position: absolute;width: 1px;}#sk-container-id-1 div.sk-estimator {font-family: monospace;background-color: #f0f8ff;border: 1px dotted black;border-radius: 0.25em;box-sizing: border-box;margin-bottom: 0.5em;}#sk-container-id-1 div.sk-estimator:hover {background-color: #d4ebff;}#sk-container-id-1 div.sk-parallel-item::after {content: \"\";width: 100%;border-bottom: 1px solid gray;flex-grow: 1;}#sk-container-id-1 div.sk-label:hover label.sk-toggleable__label {background-color: #d4ebff;}#sk-container-id-1 div.sk-serial::before {content: \"\";position: absolute;border-left: 1px solid gray;box-sizing: border-box;top: 0;bottom: 0;left: 50%;z-index: 0;}#sk-container-id-1 div.sk-serial {display: flex;flex-direction: column;align-items: center;background-color: white;padding-right: 0.2em;padding-left: 0.2em;position: relative;}#sk-container-id-1 div.sk-item {position: relative;z-index: 1;}#sk-container-id-1 div.sk-parallel {display: flex;align-items: stretch;justify-content: center;background-color: white;position: relative;}#sk-container-id-1 div.sk-item::before, #sk-container-id-1 div.sk-parallel-item::before {content: \"\";position: absolute;border-left: 1px solid gray;box-sizing: border-box;top: 0;bottom: 0;left: 50%;z-index: -1;}#sk-container-id-1 div.sk-parallel-item {display: flex;flex-direction: column;z-index: 1;position: relative;background-color: white;}#sk-container-id-1 div.sk-parallel-item:first-child::after {align-self: flex-end;width: 50%;}#sk-container-id-1 div.sk-parallel-item:last-child::after {align-self: flex-start;width: 50%;}#sk-container-id-1 div.sk-parallel-item:only-child::after {width: 0;}#sk-container-id-1 div.sk-dashed-wrapped {border: 1px dashed gray;margin: 0 0.4em 0.5em 0.4em;box-sizing: border-box;padding-bottom: 0.4em;background-color: white;}#sk-container-id-1 div.sk-label label {font-family: monospace;font-weight: bold;display: inline-block;line-height: 1.2em;}#sk-container-id-1 div.sk-label-container {text-align: center;}#sk-container-id-1 div.sk-container {/* jupyter's `normalize.less` sets `[hidden] { display: none; }` but bootstrap.min.css set `[hidden] { display: none !important; }` so we also need the `!important` here to be able to override the default hidden behavior on the sphinx rendered scikit-learn.org. See: https://github.com/scikit-learn/scikit-learn/issues/21755 */display: inline-block !important;position: relative;}#sk-container-id-1 div.sk-text-repr-fallback {display: none;}</style><div id=\"sk-container-id-1\" class=\"sk-top-container\"><div class=\"sk-text-repr-fallback\"><pre>SVC()</pre><b>In a Jupyter environment, please rerun this cell to show the HTML representation or trust the notebook. <br />On GitHub, the HTML representation is unable to render, please try loading this page with nbviewer.org.</b></div><div class=\"sk-container\" hidden><div class=\"sk-item\"><div class=\"sk-estimator sk-toggleable\"><input class=\"sk-toggleable__control sk-hidden--visually\" id=\"sk-estimator-id-1\" type=\"checkbox\" checked><label for=\"sk-estimator-id-1\" class=\"sk-toggleable__label sk-toggleable__label-arrow\">SVC</label><div class=\"sk-toggleable__content\"><pre>SVC()</pre></div></div></div></div></div>"
      ],
      "text/plain": [
       "SVC()"
      ]
     },
     "execution_count": 25,
     "metadata": {},
     "output_type": "execute_result"
    }
   ],
   "source": [
    "classifier.fit(x_train, y_train)"
   ]
  },
  {
   "cell_type": "code",
   "execution_count": 27,
   "id": "606fa814-2d1f-439a-85d3-45c39b5a1a8a",
   "metadata": {},
   "outputs": [
    {
     "name": "stdout",
     "output_type": "stream",
     "text": [
      "Accuracy Score:  94.09 %\n"
     ]
    }
   ],
   "source": [
    "y_pred = classifier.predict(x_test)\n",
    "accuracy = accuracy_score(y_pred, y_test)\n",
    "print(f'Accuracy Score: {accuracy*100: .2f} %')"
   ]
  },
  {
   "cell_type": "markdown",
   "id": "c81ebf3f-0c46-425f-8c4d-fc8decad05d4",
   "metadata": {},
   "source": [
    "# **Making a Predictive System**"
   ]
  },
  {
   "cell_type": "code",
   "execution_count": 51,
   "id": "8bbd6172-e524-4047-960c-e1ef4d574ad9",
   "metadata": {},
   "outputs": [
    {
     "name": "stdout",
     "output_type": "stream",
     "text": [
      "[[-1.17121385 -0.1582474  -1.2848016  -0.65002121 -0.65704052  0.03682986\n",
      "  -1.35368787 -2.35498485  0.31627164 -0.32503934  0.03631085  1.0028449\n",
      "   0.36677805 -1.2084672 ]]\n",
      "[0]\n",
      "This Audio is Fake\n"
     ]
    },
    {
     "name": "stderr",
     "output_type": "stream",
     "text": [
      "C:\\Users\\ritam\\anaconda3\\Lib\\site-packages\\sklearn\\base.py:439: UserWarning: X does not have valid feature names, but StandardScaler was fitted with feature names\n",
      "  warnings.warn(\n"
     ]
    }
   ],
   "source": [
    "input_data = (1014.58,0.1581,277.75,1824,0.081,0.864,1077.09,909.92,26.22,0,-12,0.4112,-18.291,-0.0227)\n",
    "\n",
    "#changing the input data to numpy array\n",
    "input_data_as_np_array = np.asarray(input_data)\n",
    "\n",
    "#reshape the array as we are predicting for one instance\n",
    "input_data_reshaped = input_data_as_np_array.reshape(1, -1)\n",
    "\n",
    "#standardized the input data\n",
    "std_data = scaler.transform(input_data_reshaped)\n",
    "print(std_data)\n",
    "\n",
    "prediction = classifier.predict(std_data)\n",
    "print(prediction)\n",
    "\n",
    "if (prediction[0]==0):\n",
    "    print(\"This Audio is Fake\")\n",
    "else:\n",
    "    print(\"This Audio is Real\")   "
   ]
  },
  {
   "cell_type": "code",
   "execution_count": 36,
   "id": "1bbf538f-eb2a-4df4-a350-4dd028eac4db",
   "metadata": {},
   "outputs": [],
   "source": [
    "import pickle"
   ]
  },
  {
   "cell_type": "code",
   "execution_count": 38,
   "id": "6c9136a4-b924-4738-b5db-95fa6e2a2b3a",
   "metadata": {},
   "outputs": [],
   "source": [
    "filename = 'trained_model2.sav'\n",
    "pickle.dump(classifier, open(filename, 'wb'))"
   ]
  },
  {
   "cell_type": "code",
   "execution_count": 40,
   "id": "741c90e7-4e16-48f3-b4f9-4976572dddde",
   "metadata": {},
   "outputs": [],
   "source": [
    "#loading the saved model\n",
    "loaded_model = pickle.load(open('trained_model2.sav', 'rb'))"
   ]
  },
  {
   "cell_type": "code",
   "execution_count": 44,
   "id": "dab0710b-d0db-4c60-b937-4924af917cd0",
   "metadata": {},
   "outputs": [],
   "source": [
    "with open(\"scaler.sav\", \"wb\") as scaler_file:\n",
    "    pickle.dump(scaler, scaler_file)"
   ]
  },
  {
   "cell_type": "code",
   "execution_count": null,
   "id": "dd58e4ef-1a70-498d-af19-76514e9ee846",
   "metadata": {},
   "outputs": [],
   "source": []
  }
 ],
 "metadata": {
  "kernelspec": {
   "display_name": "Python 3 (ipykernel)",
   "language": "python",
   "name": "python3"
  },
  "language_info": {
   "codemirror_mode": {
    "name": "ipython",
    "version": 3
   },
   "file_extension": ".py",
   "mimetype": "text/x-python",
   "name": "python",
   "nbconvert_exporter": "python",
   "pygments_lexer": "ipython3",
   "version": "3.11.7"
  }
 },
 "nbformat": 4,
 "nbformat_minor": 5
}
